{
  "nbformat": 4,
  "nbformat_minor": 0,
  "metadata": {
    "colab": {
      "name": "Abel Hodelin-Hernandez - ETLAufgaben.ipynb",
      "provenance": [],
      "collapsed_sections": [],
      "include_colab_link": true
    },
    "kernelspec": {
      "name": "python3",
      "display_name": "Python 3"
    }
  },
  "cells": [
    {
      "cell_type": "markdown",
      "metadata": {
        "id": "view-in-github",
        "colab_type": "text"
      },
      "source": [
        "<a href=\"https://colab.research.google.com/github/ahodelin/Woche2AbelHodelinHernandez/blob/main/Abel_Hodelin_Hernandez_ETLAufgaben.ipynb\" target=\"_parent\"><img src=\"https://colab.research.google.com/assets/colab-badge.svg\" alt=\"Open In Colab\"/></a>"
      ]
    },
    {
      "cell_type": "code",
      "metadata": {
        "id": "V85fs39-T7X1"
      },
      "source": [
        "# import libraries\n",
        "import pandas as pd\n",
        "import sqlite3\n",
        "from sqlite3 import Error"
      ],
      "execution_count": 45,
      "outputs": []
    },
    {
      "cell_type": "code",
      "metadata": {
        "colab": {
          "base_uri": "https://localhost:8080/"
        },
        "id": "y8GrfavcsPVs",
        "outputId": "ad4ebe5a-77ae-4f40-89d0-7fc365ea98c6"
      },
      "source": [
        "# mount drive to access data\n",
        "from google.colab import drive\n",
        "drive.mount(\"/content/drive\")"
      ],
      "execution_count": 46,
      "outputs": [
        {
          "output_type": "stream",
          "text": [
            "Drive already mounted at /content/drive; to attempt to forcibly remount, call drive.mount(\"/content/drive\", force_remount=True).\n"
          ],
          "name": "stdout"
        }
      ]
    },
    {
      "cell_type": "code",
      "metadata": {
        "id": "-eeM3RY7sgnB"
      },
      "source": [
        "# material_path = \"/content/drive/Shareddrives/05_BIDS_Datenmanagement & Archivierung im Umfeld der Forschung/Material\"\n",
        "material_path = \"/content/drive/MyDrive/csv_files/allergy/\""
      ],
      "execution_count": 47,
      "outputs": []
    },
    {
      "cell_type": "code",
      "metadata": {
        "colab": {
          "base_uri": "https://localhost:8080/"
        },
        "id": "7LTogCvJ1JIW",
        "outputId": "ce48edec-39fd-455b-d141-f5692e7a89f1"
      },
      "source": [
        "!ls {material_path} # !ls \"/content/drive/Shareddrives/05_BIDS_Datenmanagement & Archivierung im Umfeld der Forschung/Material/source_dbs\""
      ],
      "execution_count": 48,
      "outputs": [
        {
          "output_type": "stream",
          "text": [
            " allergy_test.db\t encounters.gsheet\t    patients.csv\n",
            "'careplans (1).gsheet'\t imaging_studies.csv\t    payers.csv\n",
            " careplans.csv\t\t imaging_studies.gsheet     payer_transitions.csv\n",
            " careplans.gsheet\t immunizations.csv\t    procedures.csv\n",
            " conditions.csv\t\t medications.csv\t    procedures.gsheet\n",
            " devices.csv\t\t'observations (1).gsheet'   providers.csv\n",
            " disease.csv\t\t observations.csv\t    source_allergy_test.db\n",
            " disease.gsheet\t\t observations.gsheet\t    supplies.csv\n",
            " encounters.csv\t\t organizations.csv\n"
          ],
          "name": "stdout"
        }
      ]
    },
    {
      "cell_type": "markdown",
      "metadata": {
        "id": "FwjfjLH15-l6"
      },
      "source": [
        "# Python SQLite Guide\n"
      ]
    },
    {
      "cell_type": "code",
      "metadata": {
        "id": "kqCkOE5R57if"
      },
      "source": [
        "# SQLite connection\n",
        "def create_connection_memory():\n",
        "    \"\"\" create a database connection to a database that resides\n",
        "        in the memory\n",
        "    \"\"\"\n",
        "    conn = None;\n",
        "    try:\n",
        "        conn = sqlite3.connect(':memory:')\n",
        "        return conn\n",
        "        print(sqlite3.version)\n",
        "    except Error as e:\n",
        "        print(\"Error while connecting to sqlite\", e)\n",
        "    # finally:\n",
        "    #     if conn:\n",
        "    #         conn.close()"
      ],
      "execution_count": 49,
      "outputs": []
    },
    {
      "cell_type": "code",
      "metadata": {
        "colab": {
          "base_uri": "https://localhost:8080/"
        },
        "id": "tT6PSWQs7SpX",
        "outputId": "fa86dc6b-0a33-415a-9830-3a73b8ce8bfe"
      },
      "source": [
        "# create a temporary empty database in the memory.\n",
        "conn = create_connection_memory()\n",
        "cur = conn.cursor()\n",
        "print(\"Successfully Connected to SQLite\")\n"
      ],
      "execution_count": 50,
      "outputs": [
        {
          "output_type": "stream",
          "text": [
            "Successfully Connected to SQLite\n"
          ],
          "name": "stdout"
        }
      ]
    },
    {
      "cell_type": "code",
      "metadata": {
        "colab": {
          "base_uri": "https://localhost:8080/"
        },
        "id": "XRM_0DF066tt",
        "outputId": "e380ff00-2a9f-4861-9568-5522c193992f"
      },
      "source": [
        "# Create SQLite table\n",
        "create_table_query = '''CREATE TABLE SqliteDb_developers (\n",
        "                                id INTEGER PRIMARY KEY,\n",
        "                                name TEXT NOT NULL,\n",
        "                                email text NOT NULL UNIQUE,\n",
        "                                joining_date datetime,\n",
        "                                salary REAL NOT NULL);'''\n",
        "\n",
        "cur.execute(create_table_query)\n",
        "conn.commit()\n",
        "print(\"SQLite table created\")"
      ],
      "execution_count": 51,
      "outputs": [
        {
          "output_type": "stream",
          "text": [
            "SQLite table created\n"
          ],
          "name": "stdout"
        }
      ]
    },
    {
      "cell_type": "code",
      "metadata": {
        "colab": {
          "base_uri": "https://localhost:8080/"
        },
        "id": "n8MOSIKkA3Ql",
        "outputId": "f9e266d7-5e6c-415c-b920-142f88ebb3fe"
      },
      "source": [
        "# list of tables\n",
        "cur.execute(\"SELECT name FROM sqlite_master WHERE type='table';\")\n",
        "print(cur.fetchall())"
      ],
      "execution_count": 52,
      "outputs": [
        {
          "output_type": "stream",
          "text": [
            "[('SqliteDb_developers',)]\n"
          ],
          "name": "stdout"
        }
      ]
    },
    {
      "cell_type": "code",
      "metadata": {
        "colab": {
          "base_uri": "https://localhost:8080/"
        },
        "id": "Z8GwwiDHB-wb",
        "outputId": "29c0b7c7-7f5b-409e-e692-f03c1e71ec72"
      },
      "source": [
        "# insert into table\n",
        "cur.execute(\"INSERT INTO SqliteDb_developers (id,  name, email, salary) VALUES (1, 'name1', 'name1@gmail.com', 1000)\")\n"
      ],
      "execution_count": 53,
      "outputs": [
        {
          "output_type": "execute_result",
          "data": {
            "text/plain": [
              "<sqlite3.Cursor at 0x7f95414ccce0>"
            ]
          },
          "metadata": {
            "tags": []
          },
          "execution_count": 53
        }
      ]
    },
    {
      "cell_type": "code",
      "metadata": {
        "id": "LKSPQkLCH-aR"
      },
      "source": [
        "# insert into table-Larger example\n",
        "rows = [(2, 'name2', 'name2@gmail.com', '2006-02-28', 2000),\n",
        "        (3, 'name3', 'name3@gmail.com', '2006-03-05', 3000),\n",
        "        (4, 'name4', 'name4@gmail.com', '2006-04-06', 4000)]\n",
        "cur.executemany('insert into SqliteDb_developers values (?,?,?,?,?)', rows)\n",
        "conn.commit()\n"
      ],
      "execution_count": 54,
      "outputs": []
    },
    {
      "cell_type": "code",
      "metadata": {
        "colab": {
          "base_uri": "https://localhost:8080/"
        },
        "id": "MKYBuJewMLBO",
        "outputId": "df23af26-1b7f-48c2-d0e9-e465016bf69d"
      },
      "source": [
        "select_query = \"SELECT * FROM SqliteDb_developers\"\n",
        "cur.execute(select_query)\n",
        "records = cur.fetchall()\n",
        "print(\"Total rows in table: \", len(records))\n",
        "for row in records:\n",
        "  print(row)"
      ],
      "execution_count": 55,
      "outputs": [
        {
          "output_type": "stream",
          "text": [
            "Total rows in table:  4\n",
            "(1, 'name1', 'name1@gmail.com', None, 1000.0)\n",
            "(2, 'name2', 'name2@gmail.com', '2006-02-28', 2000.0)\n",
            "(3, 'name3', 'name3@gmail.com', '2006-03-05', 3000.0)\n",
            "(4, 'name4', 'name4@gmail.com', '2006-04-06', 4000.0)\n"
          ],
          "name": "stdout"
        }
      ]
    },
    {
      "cell_type": "code",
      "metadata": {
        "colab": {
          "base_uri": "https://localhost:8080/"
        },
        "id": "TQJOSd70_7EP",
        "outputId": "c1c766b3-c6ee-4b86-8bda-c6fa8296cdce"
      },
      "source": [
        "# select with parameters\n",
        "select_query = \"\"\"select * from SqliteDb_developers where id = ?\"\"\"\n",
        "cur.execute(select_query, (1,))\n",
        "records = cur.fetchall()\n",
        "print(\"Printing ID \", id)\n",
        "for row in records:\n",
        "    print(\"Name = \", row[1])\n",
        "    print(\"Email  = \", row[2])\n",
        "    print(\"JoiningDate  = \", row[3])\n",
        "    print(\"Salary  = \", row[4])"
      ],
      "execution_count": 56,
      "outputs": [
        {
          "output_type": "stream",
          "text": [
            "Printing ID  <built-in function id>\n",
            "Name =  name1\n",
            "Email  =  name1@gmail.com\n",
            "JoiningDate  =  None\n",
            "Salary  =  1000.0\n"
          ],
          "name": "stdout"
        }
      ]
    },
    {
      "cell_type": "code",
      "metadata": {
        "colab": {
          "base_uri": "https://localhost:8080/"
        },
        "id": "AI0bFlKytsm8",
        "outputId": "f54e5916-1e3f-47d7-abca-ad74dbb4df71"
      },
      "source": [
        "# update table\n",
        "cur.execute(\"UPDATE SqliteDb_developers SET Email=? WHERE id =?\", ('Uname2@gmail.com', 2))\n",
        "print(\"Number of rows updated: {}\".format(cur.rowcount))"
      ],
      "execution_count": 57,
      "outputs": [
        {
          "output_type": "stream",
          "text": [
            "Number of rows updated: 1\n"
          ],
          "name": "stdout"
        }
      ]
    },
    {
      "cell_type": "code",
      "metadata": {
        "colab": {
          "base_uri": "https://localhost:8080/"
        },
        "id": "I3_Sk34xMaB0",
        "outputId": "3ea18d82-ec02-4d06-bb8f-ad38fc8bc3ef"
      },
      "source": [
        "# access to metadata (tables and columns) using PRAGMA\n",
        "cur.execute(\"PRAGMA table_info(SqliteDb_developers);\")\n",
        "data = cur.fetchall()\n",
        "# print(data)\n",
        "for d in data:\n",
        "  print(d[0], d[1], d[2])"
      ],
      "execution_count": 58,
      "outputs": [
        {
          "output_type": "stream",
          "text": [
            "0 id INTEGER\n",
            "1 name TEXT\n",
            "2 email text\n",
            "3 joining_date datetime\n",
            "4 salary REAL\n"
          ],
          "name": "stdout"
        }
      ]
    },
    {
      "cell_type": "code",
      "metadata": {
        "colab": {
          "base_uri": "https://localhost:8080/"
        },
        "id": "OaMTTGZsxCCD",
        "outputId": "986975d6-971f-402a-cf1a-7dd76f2f652f"
      },
      "source": [
        "# Excute whole SQL code in one step\n",
        "cur.executescript(\"\"\"\n",
        "        DROP TABLE IF EXISTS patient_table;\n",
        "        CREATE TABLE patient_table(patient_id INT, name TEXT, diagnose Text, birthdate datetime);\n",
        "        INSERT INTO patient_table VALUES(10, 'name1', 'Asthma', '2006-02-28');\n",
        "        INSERT INTO patient_table VALUES(20, 'name1', 'Asthma', '2007-02-28');\n",
        "        INSERT INTO patient_table VALUES(30, 'name1', 'Asthma', '2008-02-28');\n",
        "        INSERT INTO patient_table VALUES(40, 'name1', 'Asthma', '2009-02-28');\n",
        "        DELETE FROM patient_table WHERE patient_id > 30;\n",
        "     \"\"\")\n",
        "conn.commit()\n",
        "# cur.execute(\"DELETE FROM SqliteDb_developers WHERE id < 3\")\n",
        "cur.execute(\"SELECT COUNT(patient_id) FROM patient_table\")\n",
        "cur.fetchone()\n"
      ],
      "execution_count": 59,
      "outputs": [
        {
          "output_type": "execute_result",
          "data": {
            "text/plain": [
              "(3,)"
            ]
          },
          "metadata": {
            "tags": []
          },
          "execution_count": 59
        }
      ]
    },
    {
      "cell_type": "markdown",
      "metadata": {
        "id": "DsdHSo7H-G3m"
      },
      "source": [
        "There are more information in:\n",
        "\n",
        "http://zetcode.com/db/sqlitepythontutorial/\n",
        "\n",
        "https://pynative.com/python-sqlite/\n",
        "\n",
        "https://stackoverflow.com/questions/228912/sqlite-parameter-substitution-problem"
      ]
    },
    {
      "cell_type": "markdown",
      "metadata": {
        "id": "tO9FoACx4TWj"
      },
      "source": [
        "# Exercises"
      ]
    },
    {
      "cell_type": "markdown",
      "metadata": {
        "id": "eALn5eHirGda"
      },
      "source": [
        "### Connect to the database and see how many tables it contains\n",
        "\n",
        "\n"
      ]
    },
    {
      "cell_type": "code",
      "metadata": {
        "id": "ZvwtPAvE05hi"
      },
      "source": [
        "# Connect to source database\n",
        "def create_connection(db_file):\n",
        "  \"\"\" create a database connection to SQLite database\"\"\"\n",
        "  conn = None\n",
        "  try:\n",
        "    conn = sqlite3.connect(db_file)\n",
        "    return conn\n",
        "  except Error as error:\n",
        "    print(\"Error while connecting to sqlite\", error)\n",
        "  # finally:\n",
        "  #   if conn:\n",
        "  #     conn.close()"
      ],
      "execution_count": 60,
      "outputs": []
    },
    {
      "cell_type": "code",
      "metadata": {
        "colab": {
          "base_uri": "https://localhost:8080/"
        },
        "id": "zmw406e42yw5",
        "outputId": "12c32ae3-3b70-40d9-f653-05204b87f608"
      },
      "source": [
        "# src_db = f\"{material_path}/source_dbs/source_allergy_test.db\"\n",
        "src_db = f\"{material_path}/source_allergy_test.db\"\n",
        "\n",
        "src_conn = create_connection(src_db)\n",
        "src_cur = src_conn.cursor()\n",
        "print(\"Database connection is successfully\")"
      ],
      "execution_count": 61,
      "outputs": [
        {
          "output_type": "stream",
          "text": [
            "Database connection is successfully\n"
          ],
          "name": "stdout"
        }
      ]
    },
    {
      "cell_type": "markdown",
      "metadata": {
        "id": "5vK9_AKSrHhT"
      },
      "source": [
        "### Query the tables, join two tables\n",
        "\n"
      ]
    },
    {
      "cell_type": "code",
      "metadata": {
        "colab": {
          "base_uri": "https://localhost:8080/",
          "height": 173
        },
        "id": "oz7_EK4hwcyG",
        "outputId": "1b07c605-2242-4d1a-e420-346d06c42cb8"
      },
      "source": [
        "# Join Table of patiens, observations and conditions wiht pseudonyms for Patient Id\n",
        "patient_observation_condition = pd.read_sql_query(\"select ps.ID PATIENT_ID, p.GENDER, p.RACE, o.CODE OBSERVATIONCODE, o.DESCRIPTION OBSERVATIONDESCRIPTION, c.CODE CONDITIONCODE, c.DESCRIPTION CONDITIONDESCRIPTION  FROM patients p join observations o on p.Id = o.PATIENT \\\n",
        "JOIN (select id PATIENT, 'P'||random() ID from patients) as ps on ps.PATIENT = p.Id JOIN conditions c on c.PATIENT = o.PATIENT order by o.CODE;\" , src_conn\n",
        "  ) \n",
        "patient_observation_condition.head(4)"
      ],
      "execution_count": 62,
      "outputs": [
        {
          "output_type": "execute_result",
          "data": {
            "text/html": [
              "<div>\n",
              "<style scoped>\n",
              "    .dataframe tbody tr th:only-of-type {\n",
              "        vertical-align: middle;\n",
              "    }\n",
              "\n",
              "    .dataframe tbody tr th {\n",
              "        vertical-align: top;\n",
              "    }\n",
              "\n",
              "    .dataframe thead th {\n",
              "        text-align: right;\n",
              "    }\n",
              "</style>\n",
              "<table border=\"1\" class=\"dataframe\">\n",
              "  <thead>\n",
              "    <tr style=\"text-align: right;\">\n",
              "      <th></th>\n",
              "      <th>PATIENT_ID</th>\n",
              "      <th>GENDER</th>\n",
              "      <th>RACE</th>\n",
              "      <th>OBSERVATIONCODE</th>\n",
              "      <th>OBSERVATIONDESCRIPTION</th>\n",
              "      <th>CONDITIONCODE</th>\n",
              "      <th>CONDITIONDESCRIPTION</th>\n",
              "    </tr>\n",
              "  </thead>\n",
              "  <tbody>\n",
              "    <tr>\n",
              "      <th>0</th>\n",
              "      <td>P3753049111862834341</td>\n",
              "      <td>M</td>\n",
              "      <td>white</td>\n",
              "      <td>10230-1</td>\n",
              "      <td>Left ventricular Ejection fraction</td>\n",
              "      <td>88805009</td>\n",
              "      <td>Chronic congestive heart failure (disorder)</td>\n",
              "    </tr>\n",
              "    <tr>\n",
              "      <th>1</th>\n",
              "      <td>P5403099086071242295</td>\n",
              "      <td>M</td>\n",
              "      <td>white</td>\n",
              "      <td>10230-1</td>\n",
              "      <td>Left ventricular Ejection fraction</td>\n",
              "      <td>162864005</td>\n",
              "      <td>Body mass index 30+ - obesity (finding)</td>\n",
              "    </tr>\n",
              "    <tr>\n",
              "      <th>2</th>\n",
              "      <td>P9083070284773106907</td>\n",
              "      <td>M</td>\n",
              "      <td>white</td>\n",
              "      <td>10230-1</td>\n",
              "      <td>Left ventricular Ejection fraction</td>\n",
              "      <td>403191005</td>\n",
              "      <td>Second degree burn</td>\n",
              "    </tr>\n",
              "    <tr>\n",
              "      <th>3</th>\n",
              "      <td>P-3097872635000778074</td>\n",
              "      <td>M</td>\n",
              "      <td>white</td>\n",
              "      <td>10230-1</td>\n",
              "      <td>Left ventricular Ejection fraction</td>\n",
              "      <td>444814009</td>\n",
              "      <td>Viral sinusitis (disorder)</td>\n",
              "    </tr>\n",
              "  </tbody>\n",
              "</table>\n",
              "</div>"
            ],
            "text/plain": [
              "              PATIENT_ID  ...                         CONDITIONDESCRIPTION\n",
              "0   P3753049111862834341  ...  Chronic congestive heart failure (disorder)\n",
              "1   P5403099086071242295  ...      Body mass index 30+ - obesity (finding)\n",
              "2   P9083070284773106907  ...                           Second degree burn\n",
              "3  P-3097872635000778074  ...                   Viral sinusitis (disorder)\n",
              "\n",
              "[4 rows x 7 columns]"
            ]
          },
          "metadata": {
            "tags": []
          },
          "execution_count": 62
        }
      ]
    },
    {
      "cell_type": "markdown",
      "metadata": {
        "id": "ralFWHdBrIoh"
      },
      "source": [
        "### Copy a table from one database to another(create empty SQLite database)"
      ]
    },
    {
      "cell_type": "code",
      "metadata": {
        "id": "qWSiQGu4st9I",
        "colab": {
          "base_uri": "https://localhost:8080/"
        },
        "outputId": "10d7fe9c-6df2-4ce5-e1c2-849514776654"
      },
      "source": [
        "src_new_db = f\"/content/drive/MyDrive/etl_db/new_allergy_test.db\"\n",
        "#!ls \"/content/drive/MyDrive/etl_db/\"\n",
        "src_new_conn = create_connection(src_new_db)\n",
        "src_new_cur = src_new_conn.cursor()\n",
        "print(\"Database connection is successfully\")\n"
      ],
      "execution_count": 63,
      "outputs": [
        {
          "output_type": "stream",
          "text": [
            "Database connection is successfully\n"
          ],
          "name": "stdout"
        }
      ]
    },
    {
      "cell_type": "code",
      "metadata": {
        "colab": {
          "base_uri": "https://localhost:8080/",
          "height": 173
        },
        "id": "IAjts5A5nJ11",
        "outputId": "b36d0715-20e3-4c0d-fec8-97fa15163e94"
      },
      "source": [
        "patient_observation_condition.to_sql('patients_observation_condition', con=src_new_conn, schema=None, if_exists='append', index=False)\n",
        "patient_observation_condition_new_db=pd.read_sql_query(\"select * from patients_observation_condition;\", src_new_conn)\n",
        "patient_observation_condition_new_db.head(4)"
      ],
      "execution_count": 64,
      "outputs": [
        {
          "output_type": "execute_result",
          "data": {
            "text/html": [
              "<div>\n",
              "<style scoped>\n",
              "    .dataframe tbody tr th:only-of-type {\n",
              "        vertical-align: middle;\n",
              "    }\n",
              "\n",
              "    .dataframe tbody tr th {\n",
              "        vertical-align: top;\n",
              "    }\n",
              "\n",
              "    .dataframe thead th {\n",
              "        text-align: right;\n",
              "    }\n",
              "</style>\n",
              "<table border=\"1\" class=\"dataframe\">\n",
              "  <thead>\n",
              "    <tr style=\"text-align: right;\">\n",
              "      <th></th>\n",
              "      <th>PATIENT_ID</th>\n",
              "      <th>GENDER</th>\n",
              "      <th>RACE</th>\n",
              "      <th>OBSERVATIONCODE</th>\n",
              "      <th>OBSERVATIONDESCRIPTION</th>\n",
              "      <th>CONDITIONCODE</th>\n",
              "      <th>CONDITIONDESCRIPTION</th>\n",
              "    </tr>\n",
              "  </thead>\n",
              "  <tbody>\n",
              "    <tr>\n",
              "      <th>0</th>\n",
              "      <td>P3523390032818135460</td>\n",
              "      <td>M</td>\n",
              "      <td>white</td>\n",
              "      <td>10230-1</td>\n",
              "      <td>Left ventricular Ejection fraction</td>\n",
              "      <td>88805009</td>\n",
              "      <td>Chronic congestive heart failure (disorder)</td>\n",
              "    </tr>\n",
              "    <tr>\n",
              "      <th>1</th>\n",
              "      <td>P6371618240270824614</td>\n",
              "      <td>M</td>\n",
              "      <td>white</td>\n",
              "      <td>10230-1</td>\n",
              "      <td>Left ventricular Ejection fraction</td>\n",
              "      <td>162864005</td>\n",
              "      <td>Body mass index 30+ - obesity (finding)</td>\n",
              "    </tr>\n",
              "    <tr>\n",
              "      <th>2</th>\n",
              "      <td>P5605516810912704492</td>\n",
              "      <td>M</td>\n",
              "      <td>white</td>\n",
              "      <td>10230-1</td>\n",
              "      <td>Left ventricular Ejection fraction</td>\n",
              "      <td>403191005</td>\n",
              "      <td>Second degree burn</td>\n",
              "    </tr>\n",
              "    <tr>\n",
              "      <th>3</th>\n",
              "      <td>P-1033456409398049619</td>\n",
              "      <td>M</td>\n",
              "      <td>white</td>\n",
              "      <td>10230-1</td>\n",
              "      <td>Left ventricular Ejection fraction</td>\n",
              "      <td>444814009</td>\n",
              "      <td>Viral sinusitis (disorder)</td>\n",
              "    </tr>\n",
              "  </tbody>\n",
              "</table>\n",
              "</div>"
            ],
            "text/plain": [
              "              PATIENT_ID  ...                         CONDITIONDESCRIPTION\n",
              "0   P3523390032818135460  ...  Chronic congestive heart failure (disorder)\n",
              "1   P6371618240270824614  ...      Body mass index 30+ - obesity (finding)\n",
              "2   P5605516810912704492  ...                           Second degree burn\n",
              "3  P-1033456409398049619  ...                   Viral sinusitis (disorder)\n",
              "\n",
              "[4 rows x 7 columns]"
            ]
          },
          "metadata": {
            "tags": []
          },
          "execution_count": 64
        }
      ]
    },
    {
      "cell_type": "markdown",
      "metadata": {
        "id": "wlt_8kIrsuU_"
      },
      "source": [
        "### Transform ETL Job: Joint two table and write them into a new table"
      ]
    },
    {
      "cell_type": "code",
      "metadata": {
        "id": "zHChmzTNtPez"
      },
      "source": [
        "# see the above code cell\n"
      ],
      "execution_count": 65,
      "outputs": []
    },
    {
      "cell_type": "markdown",
      "metadata": {
        "id": "K73yqt5Ys80e"
      },
      "source": [
        "### Write ETL jobs for all Tables\n",
        "\n",
        "\n"
      ]
    },
    {
      "cell_type": "code",
      "metadata": {
        "id": "LL8-O5XwtGBn"
      },
      "source": [
        ""
      ],
      "execution_count": 65,
      "outputs": []
    },
    {
      "cell_type": "markdown",
      "metadata": {
        "id": "h-XI6Ar5tGfM"
      },
      "source": [
        "### Write a Program that schedules the ETL jobs and execute them in order\n"
      ]
    },
    {
      "cell_type": "code",
      "metadata": {
        "id": "whuBX5dVthbM"
      },
      "source": [
        ""
      ],
      "execution_count": 65,
      "outputs": []
    },
    {
      "cell_type": "code",
      "metadata": {
        "id": "gJ_UjLM8p6HJ"
      },
      "source": [
        ""
      ],
      "execution_count": 65,
      "outputs": []
    }
  ]
}